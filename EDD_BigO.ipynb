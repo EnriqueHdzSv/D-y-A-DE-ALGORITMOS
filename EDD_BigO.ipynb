{
  "nbformat": 4,
  "nbformat_minor": 0,
  "metadata": {
    "colab": {
      "name": "EDD_BigO.ipynb",
      "provenance": [],
      "authorship_tag": "ABX9TyM9uyI24SU2joJcAfvhdrQB",
      "include_colab_link": true
    },
    "kernelspec": {
      "name": "python3",
      "display_name": "Python 3"
    },
    "language_info": {
      "name": "python"
    }
  },
  "cells": [
    {
      "cell_type": "markdown",
      "metadata": {
        "id": "view-in-github",
        "colab_type": "text"
      },
      "source": [
        "<a href=\"https://colab.research.google.com/github/EnriqueHdzSv/D-y-A-DE-ALGORITMOS/blob/master/EDD_BigO.ipynb\" target=\"_parent\"><img src=\"https://colab.research.google.com/assets/colab-badge.svg\" alt=\"Open In Colab\"/></a>"
      ]
    },
    {
      "cell_type": "markdown",
      "metadata": {
        "id": "tFmtzlVtGcdd"
      },
      "source": [
        "*Arboles Binarios\n",
        "\n",
        "*Arbol binario de busqueda\n"
      ]
    },
    {
      "cell_type": "code",
      "metadata": {
        "id": "rZ1N7LWWKr93"
      },
      "source": [
        "class NodoArbol:\n",
        "  def __init__(self, value, left=None, right=None):\n",
        "    self.data = value\n",
        "    self.left = left\n",
        "    self.right = right\n",
        "class ArbolBB:\n",
        "  def __init__(self):\n",
        "    pass\n"
      ],
      "execution_count": 8,
      "outputs": []
    },
    {
      "cell_type": "code",
      "metadata": {
        "colab": {
          "base_uri": "https://localhost:8080/"
        },
        "id": "RLJr6tDYL0tM",
        "outputId": "7f939862-d368-4a25-deb2-380d5b8726d9"
      },
      "source": [
        "raiz = NodoArbol(60, None, None)\n",
        "raiz.left = NodoArbol(40,None,None)\n",
        "print(raiz.left.data)\n",
        "\n",
        "raiz=NodoArbol(60,NodoArbol(40),None)\n",
        "print(raiz.left.data)\n",
        "\n",
        "raiz=NodoArbol(60,NodoArbol(40,NodoArbol(30),None),NodoArbol(70))\n",
        "print(raiz.left.left.data)"
      ],
      "execution_count": 12,
      "outputs": [
        {
          "output_type": "stream",
          "name": "stdout",
          "text": [
            "40\n",
            "40\n",
            "30\n"
          ]
        }
      ]
    }
  ]
}