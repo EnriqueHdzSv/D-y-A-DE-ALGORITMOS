{
  "nbformat": 4,
  "nbformat_minor": 0,
  "metadata": {
    "colab": {
      "name": "EDD_BigO.ipynb",
      "provenance": [],
      "authorship_tag": "ABX9TyN6wYwcBLgbumuV9i4U8hxr",
      "include_colab_link": true
    },
    "kernelspec": {
      "name": "python3",
      "display_name": "Python 3"
    },
    "language_info": {
      "name": "python"
    }
  },
  "cells": [
    {
      "cell_type": "markdown",
      "metadata": {
        "id": "view-in-github",
        "colab_type": "text"
      },
      "source": [
        "<a href=\"https://colab.research.google.com/github/EnriqueHdzSv/D-y-A-DE-ALGORITMOS/blob/master/EDD_BigO.ipynb\" target=\"_parent\"><img src=\"https://colab.research.google.com/assets/colab-badge.svg\" alt=\"Open In Colab\"/></a>"
      ]
    },
    {
      "cell_type": "markdown",
      "metadata": {
        "id": "tFmtzlVtGcdd"
      },
      "source": [
        "*Arboles Binarios\n",
        "\n",
        "*Arbol binario de busqueda\n"
      ]
    },
    {
      "cell_type": "code",
      "metadata": {
        "id": "rZ1N7LWWKr93"
      },
      "source": [
        "class NodoArbol:\n",
        "  def __init__(self, value, left=None, right=None):\n",
        "    self.data = value\n",
        "    self.left = left\n",
        "    self.right = right\n",
        "\n",
        "class ArbolBB:\n",
        "  def __init__(self):\n",
        "    self.__root = None\n",
        "  \n",
        "  def insert(self,value):\n",
        "    if self.__root  == None:\n",
        "      self.__root == NodoArbol(value)\n",
        "    else:\n",
        "      self.__insert_nodo__(self.__root, value)\n",
        "  \n",
        "  def __insert_nodo__(self, nodo, value):\n",
        "    if nodo.data == value:\n",
        "      print(\"Ya existe\")\n",
        "      pass\n",
        "    elif value < nodo.data:\n",
        "      if nodo.left == None:\n",
        "        nodo.left == NodoArbol(value)\n",
        "      else:\n",
        "        self.__insert_nodo__(nodo.left, value)\n",
        "    else:\n",
        "      if nodo.right == None:\n",
        "        nodo.right = NodoArbol(value)\n",
        "      else:\n",
        "          self.__insert_nodo__(nodo.right, value)  \n",
        "\n",
        "\n",
        "  def transversal(self, formato=\"inorden\"):\n",
        "    if formato == \"inorden\":\n",
        "      print(\"InOrden\")\n",
        "      self.recorrido_in(self.__root)\n",
        "      print()      \n",
        "    elif formato == \"preorden\":\n",
        "      print(\"Pre orden\")\n",
        "      self.recorrido_pre(self.__root)\n",
        "      print()  \n",
        "    else: #post\n",
        "      print(\"Pos Orden\")\n",
        "      self.recorrido_pos(self.__root)\n",
        "      print()  \n",
        "  \n",
        "  def recorrido_in(self,nodo):\n",
        "    if nodo != None:\n",
        "      self.recorrido_in(nodo.left)\n",
        "      print(nodo.data, end=\" \")\n",
        "      self.recorrido_in(nodo.right)\n",
        "\n",
        "  def recorrido_pre(self,nodo):\n",
        "    if nodo != None:\n",
        "      print(nodo.data, end=\" \")\n",
        "      self.recorrido_pre(nodo.left)\n",
        "      self.recorrido_pre(nodo.right)\n",
        "  \n",
        "  def recorrido_pos(self,nodo):\n",
        "    if nodo != None:\n",
        "      self.recorrido_pos(nodo.left)\n",
        "      self.recorrido_pos(nodo.right)\n",
        "      print(nodo.data, end=\" \")\n",
        "\n",
        "  def buscar(self, value):\n",
        "    if self.__root == None:\n",
        "      print(\"Arbol vacio\")\n",
        "      return None\n",
        "    else:\n",
        "      return self.__busca_nodo(self.__root, value)\n",
        "  \n",
        "  def __busca_nodo(self, nodo, value):\n",
        "    if nodo == None:\n",
        "      print(\"No existe\")\n",
        "      return None\n",
        "    elif nodo.data == value:\n",
        "      print(\"Encontrado\", nodo.data)\n",
        "      return nodo\n",
        "    elif value < nodo.data:\n",
        "      #print(\"Buscar del aldo izq\")\n",
        "      return self.__busca_nodo(nodo.left, value)\n",
        "    else :\n",
        "      #print(\"Buscar de lado derecho\")\n",
        "      return self.__busca_nodo(nodo.right, value)\n",
        "      \n",
        "\n"
      ],
      "execution_count": null,
      "outputs": []
    },
    {
      "cell_type": "code",
      "metadata": {
        "colab": {
          "base_uri": "https://localhost:8080/"
        },
        "id": "KGznDRpscFqB",
        "outputId": "aa4ca479-4824-4b1f-d121-737461ef5bcf"
      },
      "source": [
        "abb=ArbolBB()\n",
        "\n",
        "abb.insert(55)\n",
        "abb.insert(14)\n",
        "abb.insert(27)\n",
        "abb.insert(15)\n",
        "abb.insert(21)\n",
        "abb.insert(80)\n",
        "abb.insert(27)\n",
        "\"\"\"\n",
        "abb.insert(6)\n",
        "abb.insert(3)\n",
        "abb.insert(8)\n",
        "\"\"\"\n",
        "abb.transversal(\"inorden\")\n",
        "abb.transversal(\"preorden\")\n",
        "abb.transversal(\"posorden\")\n",
        "res = abb.buscar(80)\n",
        "print(\"Resultado:\", res)\n",
        "\n",
        "\n"
      ],
      "execution_count": null,
      "outputs": [
        {
          "output_type": "stream",
          "name": "stdout",
          "text": [
            "InOrden\n",
            "\n",
            "Pre orden\n",
            "\n",
            "Pos Orden\n",
            "\n",
            "Arbol vacio\n",
            "Resultado: None\n"
          ]
        }
      ]
    },
    {
      "cell_type": "code",
      "metadata": {
        "colab": {
          "base_uri": "https://localhost:8080/"
        },
        "id": "RLJr6tDYL0tM",
        "outputId": "7f939862-d368-4a25-deb2-380d5b8726d9"
      },
      "source": [
        "raiz = NodoArbol(60, None, None)\n",
        "raiz.left = NodoArbol(40,None,None)\n",
        "print(raiz.left.data)\n",
        "\n",
        "raiz=NodoArbol(60,NodoArbol(40),None)\n",
        "print(raiz.left.data)\n",
        "\n",
        "raiz=NodoArbol(60,NodoArbol(40,NodoArbol(30),None),NodoArbol(70))\n",
        "print(raiz.left.left.data)"
      ],
      "execution_count": null,
      "outputs": [
        {
          "output_type": "stream",
          "name": "stdout",
          "text": [
            "40\n",
            "40\n",
            "30\n"
          ]
        }
      ]
    }
  ]
}