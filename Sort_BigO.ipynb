{
  "nbformat": 4,
  "nbformat_minor": 0,
  "metadata": {
    "colab": {
      "name": "Sort_BigO.ipynb",
      "provenance": [],
      "collapsed_sections": [],
      "authorship_tag": "ABX9TyM/qjGLqspYHoJGbr7d052V",
      "include_colab_link": true
    },
    "kernelspec": {
      "name": "python3",
      "display_name": "Python 3"
    },
    "language_info": {
      "name": "python"
    }
  },
  "cells": [
    {
      "cell_type": "markdown",
      "metadata": {
        "id": "view-in-github",
        "colab_type": "text"
      },
      "source": [
        "<a href=\"https://colab.research.google.com/github/EnriqueHdzSv/D-y-A-DE-ALGORITMOS/blob/master/Sort_BigO.ipynb\" target=\"_parent\"><img src=\"https://colab.research.google.com/assets/colab-badge.svg\" alt=\"Open In Colab\"/></a>"
      ]
    },
    {
      "cell_type": "code",
      "metadata": {
        "id": "ZXr3Fl6_Jx-u",
        "colab": {
          "base_uri": "https://localhost:8080/"
        },
        "outputId": "e1135a8e-b124-4a11-976b-e1384402ed0c"
      },
      "source": [
        "info=[8,5,9,3] \n",
        "#intercambio --> a,b=b,a\n",
        "\n",
        "def burbuja (data): #MO(n) PO(1)\n",
        "  tam = len(data) #MO(1) PO(1) \n",
        "  for tope in range(tam-1,0,-1): #MO(1) PO(na)\n",
        "    for pivote in range(tope): #MO(1) PO(na)\n",
        "        if data[pivote] > data[pivote+1]:#MO(0) PO(na)\n",
        "          data[pivote],data[pivote+1]=data[pivote+1],data[pivote] \n",
        "          #MO(0) PO(2n^2)\n",
        "  return data #MO(0) PO(1)\n",
        "#Memoria O(n+3)-->(n)\n",
        "#Procesamiento O(3+2n^2)-->(n^2)\n",
        "burbuja( info )"
      ],
      "execution_count": null,
      "outputs": [
        {
          "output_type": "execute_result",
          "data": {
            "text/plain": [
              "[3, 5, 8, 9]"
            ]
          },
          "metadata": {},
          "execution_count": 5
        }
      ]
    },
    {
      "cell_type": "markdown",
      "metadata": {
        "id": "Aup3Q6WrWsVl"
      },
      "source": [
        "Selection Sort\n"
      ]
    },
    {
      "cell_type": "code",
      "metadata": {
        "colab": {
          "base_uri": "https://localhost:8080/"
        },
        "id": "wmBWMyTfWxFk",
        "outputId": "ea3d5c9c-1f8f-434d-fa75-c405436a8cc7"
      },
      "source": [
        "def selection_sort(data): #M O(n) P O(1) \n",
        "  for pivote in range(len(data)): #M O(1) P O(na)\n",
        "    min=pivote #M O(1) P O(1*n)\n",
        "    for index in range(pivote,len(data),1): #M O(1) P O(na)\n",
        "      if data[index]<data[min]: #M O(0) P O(na)\n",
        "        min=index #M O(0) P O(n^2)\n",
        "      data[pivote],data[min]=data[min],data[pivote] #MO(0) PO(2*n)\n",
        "      print(f\"-->{data}<--\") #MO(0) PO(0)\n",
        "    return data #MO(0) PO(1)\n",
        "#M O( n+1+1+1 )--->( n ) \n",
        "#P O( 1+n+n^2+2n+0+1 )--->( n^2+3n )--->( n^2+n )--->(n^2)\n",
        "info=[8,5,9,3] \n",
        "print(selection_sort(info)) "
      ],
      "execution_count": null,
      "outputs": [
        {
          "output_type": "stream",
          "name": "stdout",
          "text": [
            "-->[8, 5, 9, 3]<--\n",
            "-->[5, 8, 9, 3]<--\n",
            "-->[8, 5, 9, 3]<--\n",
            "-->[3, 5, 9, 8]<--\n",
            "[3, 5, 9, 8]\n"
          ]
        }
      ]
    },
    {
      "cell_type": "markdown",
      "metadata": {
        "id": "6Xs5sAMK0H0-"
      },
      "source": [
        "Insertion Sort"
      ]
    },
    {
      "cell_type": "code",
      "metadata": {
        "colab": {
          "base_uri": "https://localhost:8080/"
        },
        "id": "NeVvWVcP0K1L",
        "outputId": "1992bdcf-afd2-4b48-f73d-23123302b01f"
      },
      "source": [
        "def insertion_sort(data): #MO(n) PO(1)\n",
        "  print(f\"Original{data}\") #MO(0) PO(1)\n",
        "  # toda la logica de section sort\n",
        "  for pivote in range(1, len(data), 1): #MO(1) PO(na)\n",
        "    for index in range(0, pivote+1, 1): #MO(1) PO(na)\n",
        "      if data[pivote]<data[index]: #MO(0) PO(na)\n",
        "        tmp=data[pivote] #MO(1) PO(n)\n",
        "        #Recorrer a la derecha \n",
        "        for i in range (pivote, index, -1): #MO(1) PO(na)\n",
        "          data[i]=data[i-1] #MO(0) PO(n*m)\n",
        "        data[index]=tmp #MO(0) PO(n)\n",
        "    print(f\"posicion {pivote}-->{data}<--\") #MO(0) PO(1)\n",
        "  return data  #MO(0) PO(1)\n",
        "#Memoria O( n+3 ) Procesamiento PO(4+2n+n*m) --> T(n)\n",
        "#Memoria O( n+3 ) --> O(n)\n",
        "#Procesamiento PO(4+2n+n^2) --> O(n+n^2)-->O(n^2)\n",
        "\n",
        "info=[10,51,2,18,4,31,12,5]\n",
        "insertion_sort(info)\n"
      ],
      "execution_count": null,
      "outputs": [
        {
          "output_type": "stream",
          "name": "stdout",
          "text": [
            "Original[10, 51, 2, 18, 4, 31, 12, 5]\n",
            "posicion 1-->[10, 51, 2, 18, 4, 31, 12, 5]<--\n",
            "posicion 2-->[2, 10, 51, 18, 4, 31, 12, 5]<--\n",
            "posicion 3-->[2, 10, 18, 51, 4, 31, 12, 5]<--\n",
            "posicion 4-->[2, 4, 10, 18, 51, 31, 12, 5]<--\n",
            "posicion 5-->[2, 4, 10, 18, 31, 51, 12, 5]<--\n",
            "posicion 6-->[2, 4, 10, 12, 18, 31, 51, 5]<--\n",
            "posicion 7-->[2, 4, 5, 10, 12, 18, 31, 51]<--\n"
          ]
        },
        {
          "output_type": "execute_result",
          "data": {
            "text/plain": [
              "[2, 4, 5, 10, 12, 18, 31, 51]"
            ]
          },
          "metadata": {},
          "execution_count": 7
        }
      ]
    },
    {
      "cell_type": "markdown",
      "metadata": {
        "id": "SP1rYKc4tvfQ"
      },
      "source": [
        "Merge Sort"
      ]
    },
    {
      "cell_type": "code",
      "metadata": {
        "id": "NpvmoEjztqZS"
      },
      "source": [
        "def mergeSort (data): #M O(n) P O(1)\n",
        "  tam=len(data) #M O(1) P O(1)\n",
        "  #print(f\"recibido: {data}\")\n",
        "  if tam==1: #caso base de recursividad #M O(0) P O(na)\n",
        "    return data #M O(0) P O(1)\n",
        "\n",
        "  mid=tam//2 #M O(1) P O(2)\n",
        "  I=mergeSort(data[0:mid:1]) #M O(0) P O((log n)/2)\n",
        "  D=mergeSort(data[mid::1]) #M O(n) P O(1)\n",
        "  #print(f\"{I}\\t\\t{D}\")\n",
        "  return merge(I,D)\n",
        "  #M O() P O()\n",
        "\n",
        "def merge(I,D):\n",
        "  resultado=[0]*(len(I)+len(D))\n",
        "  i=0\n",
        "  d=0\n",
        "  r=0\n",
        "  while i<len(I) and d<len(D):\n",
        "    if I[i] < D[d]:\n",
        "      resultado[r]=I[i]\n",
        "      i+=1\n",
        "    else: \n",
        "      resultado[r]=D[d]\n",
        "      d+=1\n",
        "    r+=1\n",
        "  #procesar lso faltantes ya sea a la der o a la izq \n",
        "  while i < len(I):\n",
        "    resultado[r]=I[i]\n",
        "    i+=1\n",
        "    r+=1\n",
        "  while d < len(D):\n",
        "    resultado[r]=D[d]\n",
        "    d+=1\n",
        "    r+=1\n",
        "  return resultado"
      ],
      "execution_count": 16,
      "outputs": []
    },
    {
      "cell_type": "code",
      "metadata": {
        "colab": {
          "base_uri": "https://localhost:8080/"
        },
        "id": "rK0lb861Cvff",
        "outputId": "a77b5c23-c474-4c22-b32e-1d6e33be87fb"
      },
      "source": [
        "numeros=[10, 51, 2, 18, 4, 31, 12, 5]\n",
        "print(mergeSort(numeros))\n"
      ],
      "execution_count": 17,
      "outputs": [
        {
          "output_type": "stream",
          "name": "stdout",
          "text": [
            "[2, 4, 5, 10, 12, 18, 31, 51]\n"
          ]
        }
      ]
    }
  ]
}