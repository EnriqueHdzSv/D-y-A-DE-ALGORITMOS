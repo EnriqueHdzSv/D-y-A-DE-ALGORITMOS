{
  "nbformat": 4,
  "nbformat_minor": 0,
  "metadata": {
    "colab": {
      "name": "Sort_BigO.ipynb",
      "provenance": [],
      "collapsed_sections": [],
      "authorship_tag": "ABX9TyNvCcEIOMi/spr0YGRoXwMl",
      "include_colab_link": true
    },
    "kernelspec": {
      "name": "python3",
      "display_name": "Python 3"
    },
    "language_info": {
      "name": "python"
    }
  },
  "cells": [
    {
      "cell_type": "markdown",
      "metadata": {
        "id": "view-in-github",
        "colab_type": "text"
      },
      "source": [
        "<a href=\"https://colab.research.google.com/github/EnriqueHdzSv/D-y-A-DE-ALGORITMOS/blob/master/Sort_BigO.ipynb\" target=\"_parent\"><img src=\"https://colab.research.google.com/assets/colab-badge.svg\" alt=\"Open In Colab\"/></a>"
      ]
    },
    {
      "cell_type": "code",
      "metadata": {
        "id": "ZXr3Fl6_Jx-u",
        "colab": {
          "base_uri": "https://localhost:8080/"
        },
        "outputId": "e1135a8e-b124-4a11-976b-e1384402ed0c"
      },
      "source": [
        "info=[8,5,9,3] \n",
        "#intercambio --> a,b=b,a\n",
        "\n",
        "def burbuja (data): #MO(n) PO(1)\n",
        "  tam = len(data) #MO(1) PO(1) \n",
        "  for tope in range(tam-1,0,-1): #MO(1) PO(na)\n",
        "    for pivote in range(tope): #MO(1) PO(na)\n",
        "        if data[pivote] > data[pivote+1]:#MO(0) PO(na)\n",
        "          data[pivote],data[pivote+1]=data[pivote+1],data[pivote] \n",
        "          #MO(0) PO(2n^2)\n",
        "  return data #MO(0) PO(1)\n",
        "#Memoria O(n+3)-->(n)\n",
        "#Procesamiento O(3+2n^2)-->(n^2)\n",
        "burbuja( info )"
      ],
      "execution_count": null,
      "outputs": [
        {
          "output_type": "execute_result",
          "data": {
            "text/plain": [
              "[3, 5, 8, 9]"
            ]
          },
          "metadata": {},
          "execution_count": 5
        }
      ]
    },
    {
      "cell_type": "markdown",
      "metadata": {
        "id": "Aup3Q6WrWsVl"
      },
      "source": [
        "Selection Sort\n"
      ]
    },
    {
      "cell_type": "code",
      "metadata": {
        "colab": {
          "base_uri": "https://localhost:8080/"
        },
        "id": "wmBWMyTfWxFk",
        "outputId": "ea3d5c9c-1f8f-434d-fa75-c405436a8cc7"
      },
      "source": [
        "def selection_sort(data): #M O(n) P O(1) \n",
        "  for pivote in range(len(data)): #M O(1) P O(na)\n",
        "    min=pivote #M O(1) P O(1*n)\n",
        "    for index in range(pivote,len(data),1): #M O(1) P O(na)\n",
        "      if data[index]<data[min]: #M O(0) P O(na)\n",
        "        min=index #M O(0) P O(n^2)\n",
        "      data[pivote],data[min]=data[min],data[pivote] #MO(0) PO(2*n)\n",
        "      print(f\"-->{data}<--\") #MO(0) PO(0)\n",
        "    return data #MO(0) PO(1)\n",
        "#M O( n+1+1+1 )--->( n ) \n",
        "#P O( 1+n+n^2+2n+0+1 )--->( n^2+3n )--->( n^2+n )--->(n^2)\n",
        "info=[8,5,9,3] \n",
        "print(selection_sort(info)) "
      ],
      "execution_count": null,
      "outputs": [
        {
          "output_type": "stream",
          "name": "stdout",
          "text": [
            "-->[8, 5, 9, 3]<--\n",
            "-->[5, 8, 9, 3]<--\n",
            "-->[8, 5, 9, 3]<--\n",
            "-->[3, 5, 9, 8]<--\n",
            "[3, 5, 9, 8]\n"
          ]
        }
      ]
    },
    {
      "cell_type": "markdown",
      "metadata": {
        "id": "6Xs5sAMK0H0-"
      },
      "source": [
        "Insertion Sort"
      ]
    },
    {
      "cell_type": "code",
      "metadata": {
        "colab": {
          "base_uri": "https://localhost:8080/"
        },
        "id": "NeVvWVcP0K1L",
        "outputId": "1992bdcf-afd2-4b48-f73d-23123302b01f"
      },
      "source": [
        "def insertion_sort(data): #MO(n) PO(1)\n",
        "  print(f\"Original{data}\") #MO(0) PO(1)\n",
        "  # toda la logica de section sort\n",
        "  for pivote in range(1, len(data), 1): #MO(1) PO(na)\n",
        "    for index in range(0, pivote+1, 1): #MO(1) PO(na)\n",
        "      if data[pivote]<data[index]: #MO(0) PO(na)\n",
        "        tmp=data[pivote] #MO(1) PO(n)\n",
        "        #Recorrer a la derecha \n",
        "        for i in range (pivote, index, -1): #MO(1) PO(na)\n",
        "          data[i]=data[i-1] #MO(0) PO(n*m)\n",
        "        data[index]=tmp #MO(0) PO(n)\n",
        "    print(f\"posicion {pivote}-->{data}<--\") #MO(0) PO(1)\n",
        "  return data  #MO(0) PO(1)\n",
        "#Memoria O( n+3 ) Procesamiento PO(4+2n+n*m) --> T(n)\n",
        "#Memoria O( n+3 ) --> O(n)\n",
        "#Procesamiento PO(4+2n+n^2) --> O(n+n^2)-->O(n^2)\n",
        "\n",
        "info=[10,51,2,18,4,31,12,5]\n",
        "insertion_sort(info)\n"
      ],
      "execution_count": 7,
      "outputs": [
        {
          "output_type": "stream",
          "name": "stdout",
          "text": [
            "Original[10, 51, 2, 18, 4, 31, 12, 5]\n",
            "posicion 1-->[10, 51, 2, 18, 4, 31, 12, 5]<--\n",
            "posicion 2-->[2, 10, 51, 18, 4, 31, 12, 5]<--\n",
            "posicion 3-->[2, 10, 18, 51, 4, 31, 12, 5]<--\n",
            "posicion 4-->[2, 4, 10, 18, 51, 31, 12, 5]<--\n",
            "posicion 5-->[2, 4, 10, 18, 31, 51, 12, 5]<--\n",
            "posicion 6-->[2, 4, 10, 12, 18, 31, 51, 5]<--\n",
            "posicion 7-->[2, 4, 5, 10, 12, 18, 31, 51]<--\n"
          ]
        },
        {
          "output_type": "execute_result",
          "data": {
            "text/plain": [
              "[2, 4, 5, 10, 12, 18, 31, 51]"
            ]
          },
          "metadata": {},
          "execution_count": 7
        }
      ]
    }
  ]
}