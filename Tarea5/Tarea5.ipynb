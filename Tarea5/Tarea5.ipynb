{
  "nbformat": 4,
  "nbformat_minor": 0,
  "metadata": {
    "colab": {
      "name": "Tarea5.ipynb",
      "provenance": []
    },
    "kernelspec": {
      "name": "python3",
      "display_name": "Python 3"
    },
    "language_info": {
      "name": "python"
    }
  },
  "cells": [
    {
      "cell_type": "code",
      "metadata": {
        "colab": {
          "base_uri": "https://localhost:8080/"
        },
        "id": "ImaC9CcdCbts",
        "outputId": "82bb68ca-2153-497e-87fc-55ed172d4068"
      },
      "source": [
        "def denominaciones():\n",
        "  cantidad= float(input('Ingrese una cantidad : ')) #O(n*4) O(1)\n",
        "  dinero=[500,200,100,20,10,5,1,0.5] #O(18*4) O(1)\n",
        "\n",
        "  for i in dinero: #O(1*4) #O(8) \n",
        "    if cantidad >=i: #O(0) O(na)\n",
        "     restante=cantidad//i #O(n*4) O(na)\n",
        "     print(str (restante) + (' billete' if cantidad>=10 else ' moneda') + ('s' if restante>1  else '')  + \" de \" + str (i)  ) #O(1+8+7+1+1+3+3=24) O(8+2+2=12)\n",
        "     cantidad = cantidad % i #O(n*4) O(na)\n",
        "\n",
        "denominaciones()\n",
        "\n",
        "\n",
        "#Memoria       O(3(n*4)+72+4)--->(76+3(n*4))\n",
        "#Procesamiento O(1+1+8+3na+12)--->(22+3na)\n"
      ],
      "execution_count": 33,
      "outputs": [
        {
          "output_type": "stream",
          "name": "stdout",
          "text": [
            "Ingrese una cantidad : 459\n",
            "2.0 billetes de 200\n",
            "2.0 billetes de 20\n",
            "1.0 billete de 10\n",
            "1.0 moneda de 5\n",
            "4.0 monedas de 1\n"
          ]
        }
      ]
    }
  ]
}