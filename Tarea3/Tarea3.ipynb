{
  "nbformat": 4,
  "nbformat_minor": 0,
  "metadata": {
    "colab": {
      "name": "Tarea3.ipynb",
      "provenance": []
    },
    "kernelspec": {
      "name": "python3",
      "display_name": "Python 3"
    },
    "language_info": {
      "name": "python"
    }
  },
  "cells": [
    {
      "cell_type": "code",
      "metadata": {
        "colab": {
          "base_uri": "https://localhost:8080/"
        },
        "id": "mt2tLxILl5No",
        "outputId": "1a85464a-f682-4574-b8b2-e852980296b4"
      },
      "source": [
        "lista = [1,2,3]\n",
        "print(\"Lista: \",lista)\n",
        "n=0\n",
        "for i in lista:\n",
        "  for j in lista:\n",
        "    n+=1\n",
        "    print(i,j)\n",
        "print(\"Final:\", n)"
      ],
      "execution_count": null,
      "outputs": [
        {
          "output_type": "stream",
          "name": "stdout",
          "text": [
            "Lista:  [1, 2, 3]\n",
            "1 1\n",
            "1 2\n",
            "1 3\n",
            "2 1\n",
            "2 2\n",
            "2 3\n",
            "3 1\n",
            "3 2\n",
            "3 3\n",
            "Final: 9\n"
          ]
        }
      ]
    },
    {
      "cell_type": "code",
      "metadata": {
        "colab": {
          "base_uri": "https://localhost:8080/"
        },
        "id": "GLUVzVzMU5TU",
        "outputId": "a39f1334-ee6d-4d4f-8a4a-ac8e56936378"
      },
      "source": [
        "from itertools import product\n",
        "n=0\n",
        "longitud = 2\n",
        "print(\"Lista: \",lista)\n",
        "for i in product(lista , repeat=longitud):\n",
        "    n+=1\n",
        "    print(i)\n",
        "print(\"Final: \",n)"
      ],
      "execution_count": null,
      "outputs": [
        {
          "output_type": "stream",
          "name": "stdout",
          "text": [
            "Lista:  [1, 2, 3]\n",
            "(1, 1)\n",
            "(1, 2)\n",
            "(1, 3)\n",
            "(2, 1)\n",
            "(2, 2)\n",
            "(2, 3)\n",
            "(3, 1)\n",
            "(3, 2)\n",
            "(3, 3)\n",
            "Final:  9\n"
          ]
        }
      ]
    }
  ]
}