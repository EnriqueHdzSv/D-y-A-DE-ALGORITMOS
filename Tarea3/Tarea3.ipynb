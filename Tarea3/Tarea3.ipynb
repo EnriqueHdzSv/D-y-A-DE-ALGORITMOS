{
  "nbformat": 4,
  "nbformat_minor": 0,
  "metadata": {
    "colab": {
      "name": "Tarea3.ipynb",
      "provenance": []
    },
    "kernelspec": {
      "name": "python3",
      "display_name": "Python 3"
    },
    "language_info": {
      "name": "python"
    }
  },
  "cells": [
    {
      "cell_type": "code",
      "metadata": {
        "colab": {
          "base_uri": "https://localhost:8080/"
        },
        "id": "mt2tLxILl5No",
        "outputId": "1a85464a-f682-4574-b8b2-e852980296b4"
      },
      "source": [
        "lista = [1,2,3]\n",
        "print(\"Lista: \",lista)\n",
        "n=0\n",
        "for i in lista:\n",
        "  for j in lista:\n",
        "    n+=1\n",
        "    print(i,j)\n",
        "print(\"Final:\", n)"
      ],
      "execution_count": 3,
      "outputs": [
        {
          "output_type": "stream",
          "name": "stdout",
          "text": [
            "Lista:  [1, 2, 3]\n",
            "1 1\n",
            "1 2\n",
            "1 3\n",
            "2 1\n",
            "2 2\n",
            "2 3\n",
            "3 1\n",
            "3 2\n",
            "3 3\n",
            "Final: 9\n"
          ]
        }
      ]
    }
  ]
}