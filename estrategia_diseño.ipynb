{
  "nbformat": 4,
  "nbformat_minor": 0,
  "metadata": {
    "colab": {
      "name": "estrategia_diseño.ipynb",
      "provenance": [],
      "authorship_tag": "ABX9TyM1pvPhDTjP3O5ooCYGHmsF",
      "include_colab_link": true
    },
    "kernelspec": {
      "name": "python3",
      "display_name": "Python 3"
    },
    "language_info": {
      "name": "python"
    }
  },
  "cells": [
    {
      "cell_type": "markdown",
      "metadata": {
        "id": "view-in-github",
        "colab_type": "text"
      },
      "source": [
        "<a href=\"https://colab.research.google.com/github/EnriqueHdzSv/D-y-A-DE-ALGORITMOS/blob/master/estrategia_dise%C3%B1o.ipynb\" target=\"_parent\"><img src=\"https://colab.research.google.com/assets/colab-badge.svg\" alt=\"Open In Colab\"/></a>"
      ]
    },
    {
      "cell_type": "markdown",
      "metadata": {
        "id": "qiGtssM-YZtO"
      },
      "source": [
        "Fuerza Bruta \n",
        "Ejemplo1: Busqueda de patrones de texto"
      ]
    },
    {
      "cell_type": "code",
      "metadata": {
        "colab": {
          "base_uri": "https://localhost:8080/"
        },
        "id": "voGVnf2yYgsZ",
        "outputId": "50487b11-6aa6-4158-b5e1-37960f63a1f3"
      },
      "source": [
        "def string_match_brute(A,P):\n",
        "  for i in range ( len(A) - len(P) + 1 ):\n",
        "    for j in range (len(P)):\n",
        "      if P[j] == A[i+j] :\n",
        "        pass \n",
        "      else:\n",
        "        break\n",
        "    if j+1 == len(P) and A[i+j] == P[j]:\n",
        "      print(f\"Se encontró en la posicion: {i}\")\n",
        "\n",
        "entrada = \"0011100101011011101\"\n",
        "patron = \"01101\"\n",
        "string_match_brute(entrada, patron)\n",
        "\n",
        "\n",
        "#Cifrado césar\n",
        "\n"
      ],
      "execution_count": 5,
      "outputs": [
        {
          "output_type": "stream",
          "name": "stdout",
          "text": [
            "Se encontró en la posicion: 10\n"
          ]
        }
      ]
    }
  ]
}