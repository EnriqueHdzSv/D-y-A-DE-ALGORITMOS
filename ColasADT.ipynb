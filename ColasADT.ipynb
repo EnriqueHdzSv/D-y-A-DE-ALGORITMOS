{
  "nbformat": 4,
  "nbformat_minor": 0,
  "metadata": {
    "colab": {
      "name": "ColasADT.ipynb",
      "provenance": [],
      "authorship_tag": "ABX9TyO3Dq26IGKja3jFo/xIkrpw",
      "include_colab_link": true
    },
    "kernelspec": {
      "name": "python3",
      "display_name": "Python 3"
    },
    "language_info": {
      "name": "python"
    }
  },
  "cells": [
    {
      "cell_type": "markdown",
      "metadata": {
        "id": "view-in-github",
        "colab_type": "text"
      },
      "source": [
        "<a href=\"https://colab.research.google.com/github/EnriqueHdzSv/D-y-A-DE-ALGORITMOS/blob/master/ColasADT.ipynb\" target=\"_parent\"><img src=\"https://colab.research.google.com/assets/colab-badge.svg\" alt=\"Open In Colab\"/></a>"
      ]
    },
    {
      "cell_type": "code",
      "metadata": {
        "id": "PbR7o-dgHO37"
      },
      "source": [
        "class QueueADT:\n",
        "  def __init__(self):\n",
        "    self.__data = []\n",
        "\n",
        "  def is_empty(self):\n",
        "    return len(self.__data) == 0\n",
        "  \n",
        "  def length(self):\n",
        "    return len(self.__data)\n",
        "  \n",
        "  def enqueue(self, dato):\n",
        "    self.__data.append(dato)\n",
        "\n",
        "  def dequeue(self):\n",
        "    if not self.is_empty():\n",
        "      return self.__data.pop(0)\n",
        "  \n",
        "  def to_string(self):\n",
        "    for x in self.__data:\n",
        "      print(f\"|  {x}  | <----\", end=\" \")\n",
        "    print(\"\")"
      ],
      "execution_count": 9,
      "outputs": []
    },
    {
      "cell_type": "code",
      "metadata": {
        "colab": {
          "base_uri": "https://localhost:8080/"
        },
        "id": "lnwofIggHLmJ",
        "outputId": "a4b498c5-493f-4452-d26a-95e1d724326e"
      },
      "source": [
        "cola = QueueADT()\n",
        "print(\"Esta vacio?\", cola.is_empty())\n",
        "print(\"Numero de elementos: \", cola.length())\n",
        "cola.enqueue(10)\n",
        "cola.to_string()\n",
        "cola.enqueue(20)\n",
        "cola.enqueue(30)\n",
        "cola.enqueue(40)\n",
        "cola.to_string()\n",
        "print(\"Numero de elementos: \", cola.length())\n",
        "cola.dequeue()\n",
        "cola.to_string()"
      ],
      "execution_count": 10,
      "outputs": [
        {
          "output_type": "stream",
          "name": "stdout",
          "text": [
            "Esta vacio? True\n",
            "Numero de elementos:  0\n",
            "|  10  | <---- \n",
            "|  10  | <---- |  20  | <---- |  30  | <---- |  40  | <---- \n",
            "Numero de elementos:  4\n",
            "|  20  | <---- |  30  | <---- |  40  | <---- \n"
          ]
        }
      ]
    },
    {
      "cell_type": "code",
      "metadata": {
        "id": "9aFkoFU5-jvi"
      },
      "source": [
        "class ColaPrioridadAcotada:\n",
        "  def __init__(self, niveles):\n",
        "    self.__data = [ QueueADT() for x in range (niveles)]\n",
        "    self.length = 0 #el numero de elementos encolados\n",
        "\n",
        "  def is_empty(self):\n",
        "    return self.length == 0\n",
        "  \n",
        "  def length(self):\n",
        "    return self.length\n",
        "  \n",
        "  def enqueue(self, prioridad, elem ):\n",
        "    if prioridad >= 0 and prioridad < len(self.__data):\n",
        "      self.__data[prioridad].enqueue(elem)\n",
        "      self.length += 1\n",
        "  \n",
        "  def to_string(self):\n",
        "    for p in range(len(self.__data)):\n",
        "      print(f\"Prioridad{p} =\", end=\"\")\n",
        "      self.__data[p].to_string()\n",
        "\n",
        "  def dequeue(self):\n",
        "    for nivel in self.__data:\n",
        "      if not nivel.is_empty():\n",
        "        self.length -=1\n",
        "        return nivel.dequeue()\n"
      ],
      "execution_count": 11,
      "outputs": []
    },
    {
      "cell_type": "code",
      "metadata": {
        "id": "qm2GKis5ClaU",
        "colab": {
          "base_uri": "https://localhost:8080/"
        },
        "outputId": "a6134d66-5fb0-4b57-ef4e-2865f9087fd0"
      },
      "source": [
        "cpa = ColaPrioridadAcotada(7)\n",
        "cpa.enqueue(4,\"A\")\n",
        "cpa.enqueue(2,\"Z\")\n",
        "cpa.enqueue(4,\"N\")\n",
        "cpa.enqueue(1,\"P\")\n",
        "cpa.to_string()\n",
        "print(\".-.-.-.-.-.-.-.-\")\n",
        "sig=cpa.dequeue\n",
        "cpa.to_string()\n"
      ],
      "execution_count": 12,
      "outputs": [
        {
          "output_type": "stream",
          "name": "stdout",
          "text": [
            "Prioridad0 =\n",
            "Prioridad1 =|  P  | <---- \n",
            "Prioridad2 =|  Z  | <---- \n",
            "Prioridad3 =\n",
            "Prioridad4 =|  A  | <---- |  N  | <---- \n",
            "Prioridad5 =\n",
            "Prioridad6 =\n",
            ".-.-.-.-.-.-.-.-\n",
            "Prioridad0 =\n",
            "Prioridad1 =|  P  | <---- \n",
            "Prioridad2 =|  Z  | <---- \n",
            "Prioridad3 =\n",
            "Prioridad4 =|  A  | <---- |  N  | <---- \n",
            "Prioridad5 =\n",
            "Prioridad6 =\n"
          ]
        }
      ]
    },
    {
      "cell_type": "code",
      "metadata": {
        "id": "DBOc3rf_FRLG"
      },
      "source": [
        "class ColaPrioridad:\n",
        "  def __init__(self):\n",
        "    self.__data=[]\n",
        "    self.__length = 0\n",
        "\n",
        "  def is_empty(self):\n",
        "    return self.length == 0\n",
        "  \n",
        "  def length(self):\n",
        "    return self.length\n",
        "\n",
        "  def enqueue(self, prioridad, elem):\n",
        "    existe = False\n",
        "    indice = 0\n",
        "    for index in range(len(self.__data)):\n",
        "      if self.__data[index][\"p\"] == prioridad:\n",
        "        existe = True\n",
        "        indice = index\n",
        "        break\n",
        "    if existe:\n",
        "      self.__data[indice][\"cola\"].enqueue(elem)\n",
        "    else:\n",
        "      self.__data.append({\"p\":prioridad, \"cola\": QueueADT()})\n",
        "      self.__data[-1][\"cola\"].enqueue(elem)\n",
        "  \n",
        "  def to_string(self):\n",
        "    for level in self.__data:\n",
        "      print(level[\"p\"], end=\" = \")\n",
        "      level[\"cola\"].to_string()\n",
        "\n",
        "\n"
      ],
      "execution_count": 19,
      "outputs": []
    },
    {
      "cell_type": "code",
      "metadata": {
        "colab": {
          "base_uri": "https://localhost:8080/"
        },
        "id": "15YmpNJwqLv2",
        "outputId": "9212c2df-21b5-49fb-e08f-53d84bd2c7a0"
      },
      "source": [
        "cp = ColaPrioridad()\n",
        "cp.enqueue(2,\"A\")\n",
        "cp.enqueue(4,\"Z\")\n",
        "cp.enqueue(1,\"R\")\n",
        "cp.enqueue(2,\"B\")\n",
        "cp.enqueue(4,\"Y\")\n",
        "cp.to_string()"
      ],
      "execution_count": 20,
      "outputs": [
        {
          "output_type": "stream",
          "name": "stdout",
          "text": [
            "2 = |  A  | <---- |  B  | <---- \n",
            "4 = |  Z  | <---- |  Y  | <---- \n",
            "1 = |  R  | <---- \n"
          ]
        }
      ]
    }
  ]
}